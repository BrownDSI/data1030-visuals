{
 "cells": [
  {
   "cell_type": "code",
   "execution_count": 1,
   "metadata": {},
   "outputs": [],
   "source": [
    "import numpy as np\n",
    "import pandas as pd\n",
    "from ipywidgets import interact\n",
    "import ipywidgets as widgets\n",
    "import matplotlib.pyplot as plt\n",
    "from itertools import product"
   ]
  },
  {
   "cell_type": "code",
   "execution_count": 2,
   "metadata": {},
   "outputs": [],
   "source": [
    "import numpy as np\n",
    "import pandas as pd\n",
    "from ipywidgets import interact\n",
    "import ipywidgets as widgets\n",
    "import matplotlib.pyplot as plt\n",
    "from itertools import product\n",
    "\n",
    "# a function to get data from any machine learning models and hyperparameters\n",
    "def get_data(model, hyperparameters, inputs):\n",
    "\n",
    "    # get every combination of hyperparameters without loops\n",
    "    keys = list(hyperparameters)\n",
    "    hyperparameters_list = list(product(*(hyperparameters[key] for key in keys)))\n",
    "    # change it into dictionary\n",
    "    hyperparameters_list = [dict(zip(keys, values)) for values in hyperparameters_list]\n",
    "    \n",
    "    y_new = np.zeros((len(inputs), len(hyperparameters_list)))\n",
    "    for i, hyperparameter in enumerate(hyperparameters_list):\n",
    "        reg = model(**hyperparameter)\n",
    "        reg.fit(X[:, np.newaxis],y)\n",
    "        y_new[:, i] = reg.predict(inputs[:, np.newaxis])\n",
    "\n",
    "    y_new = pd.DataFrame(y_new.reshape(len(inputs), len(hyperparameters_list)))\n",
    "    # split every columns to lists\n",
    "    tmp = []\n",
    "    for i in range(len(hyperparameters_list)):\n",
    "        tmp.append(y_new[i])\n",
    "    # reshape\n",
    "    y_new = np.array(tmp).reshape(len(inputs)*len(hyperparameters_list),1)\n",
    "\n",
    "    return y_new\n",
    "\n",
    "\n",
    "def get_title(hyperparameters):\n",
    "    # get title for any number of hyperparameters\n",
    "    keys = list(hyperparameters)\n",
    "    title = ''\n",
    "    for i in range(len(keys)):\n",
    "        title += keys[i] + ' = ' + str(hyperparameters[keys[i]])[1:-1] + ', '\n",
    "    return title[:-2]\n",
    "\n",
    "\n",
    "def vis(X, y, model, param_grid, input):\n",
    "    \n",
    "    # make a copy of param_grid and get the keys\n",
    "    h_temp = param_grid.copy()\n",
    "    keys = list(param_grid)\n",
    "\n",
    "    # get the sliders for each hyperparameter\n",
    "    sliders = {}\n",
    "    for h in range(len(param_grid)):\n",
    "        param_name = keys[h]\n",
    "        sliders[param_name] = widgets.SelectionSlider(options=param_grid[keys[h]], value=param_grid[keys[h]][0], description=param_name)\n",
    "\n",
    "    # function to make the plot\n",
    "    @interact(**sliders)\n",
    "    def plot_series(**kwargs):\n",
    "        for h in range(len(param_grid)):\n",
    "            param_name = keys[h]\n",
    "            slider_value = kwargs[param_name]\n",
    "            h_temp[param_name] = [slider_value]\n",
    "        y_new = get_data(model, h_temp, input)\n",
    "        plt.scatter(X,y,label='training data')\n",
    "        plt.plot(np.linspace(0, 1, 100),true_fun(np.linspace(0, 1, 100)),label='true function')\n",
    "        plt.plot(input,y_new.reshape(len(input),),'r',label='prediction')\n",
    "        plt.xlabel('x')\n",
    "        plt.ylabel('y')\n",
    "        plt.title(get_title(h_temp))\n",
    "        plt.legend()\n",
    "\n",
    "    return"
   ]
  },
  {
   "cell_type": "code",
   "execution_count": 3,
   "metadata": {},
   "outputs": [],
   "source": [
    "#initialization\n",
    "np.random.seed(10)\n",
    "n_samples = 30\n",
    "def true_fun(X):\n",
    "    return np.cos(1.5 * np.pi * X)\n",
    "X = np.random.rand(n_samples)\n",
    "y = true_fun(X) + np.random.randn(n_samples) * 0.1"
   ]
  },
  {
   "cell_type": "code",
   "execution_count": 4,
   "metadata": {},
   "outputs": [
    {
     "data": {
      "application/vnd.jupyter.widget-view+json": {
       "model_id": "1291bf33a65f4fc98c3c2887fff338cf",
       "version_major": 2,
       "version_minor": 0
      },
      "text/plain": [
       "interactive(children=(SelectionSlider(description='n_estimators', options=(1, 10, 20, 30, 40), value=1), Selec…"
      ]
     },
     "metadata": {},
     "output_type": "display_data"
    }
   ],
   "source": [
    "# Try the example from the meterial\n",
    "from sklearn.ensemble import RandomForestRegressor\n",
    "X_new = np.linspace(0, 1, 1000)\n",
    "hyperparameters = {\n",
    "    'n_estimators': [1, 10,20,30,40],\n",
    "    'max_depth': [1, 2, 3, 4, 5, 6, 7, 8, 9, 10]\n",
    "}\n",
    "\n",
    "vis(X, y, RandomForestRegressor, hyperparameters, X_new)"
   ]
  },
  {
   "cell_type": "code",
   "execution_count": 5,
   "metadata": {},
   "outputs": [
    {
     "data": {
      "application/vnd.jupyter.widget-view+json": {
       "model_id": "7e882b094c4a4ff89acff73dad6d9f95",
       "version_major": 2,
       "version_minor": 0
      },
      "text/plain": [
       "interactive(children=(SelectionSlider(description='gamma', options=(100000.0, 1000.0, 10.0, 0.1, 0.001), value…"
      ]
     },
     "metadata": {},
     "output_type": "display_data"
    }
   ],
   "source": [
    "# Try SVR\n",
    "from sklearn.svm import SVR\n",
    "X_new = np.linspace(0, 1, 1000)\n",
    "hyperparameters = {\n",
    "    'gamma': [1e5, 1e3, 1e1, 1e-1,1e-3],\n",
    "    'C': [1e-3,1e-1,1e1,1e3]\n",
    "}\n",
    "\n",
    "vis(X, y, SVR, hyperparameters, X_new)"
   ]
  },
  {
   "cell_type": "code",
   "execution_count": 6,
   "metadata": {},
   "outputs": [
    {
     "data": {
      "application/vnd.jupyter.widget-view+json": {
       "model_id": "082ad5ccde044339988e58e692ca05ee",
       "version_major": 2,
       "version_minor": 0
      },
      "text/plain": [
       "interactive(children=(SelectionSlider(description='gamma', options=(100000.0, 1000.0, 10.0, 0.1, 0.001), value…"
      ]
     },
     "metadata": {},
     "output_type": "display_data"
    }
   ],
   "source": [
    "# Try only one hyperparameter\n",
    "X_new = np.linspace(0, 1, 1000)\n",
    "hyperparameters = {\n",
    "    'gamma': [1e5, 1e3, 1e1, 1e-1,1e-3]\n",
    "}\n",
    "\n",
    "vis(X, y, SVR, hyperparameters, X_new)"
   ]
  },
  {
   "cell_type": "code",
   "execution_count": 7,
   "metadata": {},
   "outputs": [
    {
     "data": {
      "application/vnd.jupyter.widget-view+json": {
       "model_id": "e25ee958e45d49d2bd8128176e8e13a8",
       "version_major": 2,
       "version_minor": 0
      },
      "text/plain": [
       "interactive(children=(SelectionSlider(description='bootstrap', options=(True, False), value=True), SelectionSl…"
      ]
     },
     "metadata": {},
     "output_type": "display_data"
    }
   ],
   "source": [
    "# Try 3 hyperparameters with a string hyperparameter\n",
    "X_new = np.linspace(0, 1, 1000)\n",
    "hyperparameters = {\n",
    "    'bootstrap': [True, False],\n",
    "    'n_estimators': [1, 10,20,30,40],\n",
    "    'max_depth': [1, 2, 3, 4, 5, 6, 7, 8, 9, 10]\n",
    "}\n",
    "\n",
    "vis(X, y, RandomForestRegressor, hyperparameters, X_new)"
   ]
  },
  {
   "cell_type": "code",
   "execution_count": 8,
   "metadata": {},
   "outputs": [
    {
     "data": {
      "application/vnd.jupyter.widget-view+json": {
       "model_id": "1bcd6c6eebfc40e098a6beb5c507323a",
       "version_major": 2,
       "version_minor": 0
      },
      "text/plain": [
       "interactive(children=(SelectionSlider(description='bootstrap', options=(True, False), value=True), SelectionSl…"
      ]
     },
     "metadata": {},
     "output_type": "display_data"
    }
   ],
   "source": [
    "# Try one more hyperparameter\n",
    "X_new = np.linspace(0, 1, 1000)\n",
    "hyperparameters = {\n",
    "    'bootstrap': [True, False],\n",
    "    'n_estimators': [1, 10,20,30,40],\n",
    "    'max_depth': [1, 2, 3, 4, 5, 6, 7, 8, 9, 10],\n",
    "    'max_features': ['auto', 'sqrt']\n",
    "}\n",
    "\n",
    "vis(X, y, RandomForestRegressor, hyperparameters, X_new)"
   ]
  },
  {
   "cell_type": "code",
   "execution_count": 9,
   "metadata": {},
   "outputs": [
    {
     "data": {
      "application/vnd.jupyter.widget-view+json": {
       "model_id": "8dfd3aabd5134dd2a4b4e5b0648eb20a",
       "version_major": 2,
       "version_minor": 0
      },
      "text/plain": [
       "interactive(children=(SelectionSlider(description='max_depth', options=(1, 2, 3, 4, 5, 6, 7, 8, 9, 10), value=…"
      ]
     },
     "metadata": {},
     "output_type": "display_data"
    }
   ],
   "source": [
    "# Try one more different model\n",
    "import xgboost as xgb\n",
    "X_new = np.linspace(0, 1, 1000)\n",
    "hyperparameters = {\n",
    "        'max_depth': [1, 2, 3, 4, 5, 6, 7, 8, 9, 10], \n",
    "        'colsample_bylevel':[0.5,0.6,0.7,0.8,0.9,1.0],\n",
    "        'learning_rate':[0.01,0.05,0.1,0.2,0.3]\n",
    "}\n",
    "\n",
    "vis(X, y, xgb.XGBRegressor, hyperparameters, X_new)"
   ]
  }
 ],
 "metadata": {
  "kernelspec": {
   "display_name": "Python 3.9.7 ('data1030')",
   "language": "python",
   "name": "python3"
  },
  "language_info": {
   "codemirror_mode": {
    "name": "ipython",
    "version": 3
   },
   "file_extension": ".py",
   "mimetype": "text/x-python",
   "name": "python",
   "nbconvert_exporter": "python",
   "pygments_lexer": "ipython3",
   "version": "3.9.7"
  },
  "orig_nbformat": 4,
  "vscode": {
   "interpreter": {
    "hash": "6a0ce0f69f06591dafe11bb80f35d62a0211bd6e8a94505b009222a706814342"
   }
  }
 },
 "nbformat": 4,
 "nbformat_minor": 2
}
